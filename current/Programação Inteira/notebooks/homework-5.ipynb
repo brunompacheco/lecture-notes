{
 "cells": [
  {
   "cell_type": "code",
   "execution_count": 2,
   "id": "distant-disposition",
   "metadata": {},
   "outputs": [],
   "source": [
    "from gurobipy import Model, GRB"
   ]
  },
  {
   "cell_type": "markdown",
   "id": "sharp-cannon",
   "metadata": {},
   "source": [
    "# Homework - 0-1 Knapsack Problem"
   ]
  },
  {
   "cell_type": "markdown",
   "id": "instrumental-pulse",
   "metadata": {},
   "source": [
    "## Linear relaxation"
   ]
  },
  {
   "cell_type": "code",
   "execution_count": 3,
   "id": "dietary-kenya",
   "metadata": {},
   "outputs": [
    {
     "name": "stdout",
     "output_type": "stream",
     "text": [
      "Academic license - for non-commercial use only - expires 2021-06-12\n",
      "Using license file /home/bruno/gurobi.lic\n",
      "Gurobi Optimizer version 9.1.1 build v9.1.1rc0 (linux64)\n",
      "Thread count: 2 physical cores, 4 logical processors, using up to 4 threads\n",
      "Optimize a model with 1 rows, 3 columns and 3 nonzeros\n",
      "Model fingerprint: 0xf6f069ef\n",
      "Coefficient statistics:\n",
      "  Matrix range     [1e+00, 4e+00]\n",
      "  Objective range  [4e+00, 1e+01]\n",
      "  Bounds range     [1e+00, 1e+00]\n",
      "  RHS range        [4e+00, 4e+00]\n",
      "Presolve removed 1 rows and 3 columns\n",
      "Presolve time: 0.07s\n",
      "Presolve: All rows and columns removed\n",
      "Iteration    Objective       Primal Inf.    Dual Inf.      Time\n",
      "       0    1.4500000e+01   0.000000e+00   0.000000e+00      0s\n",
      "\n",
      "Solved in 0 iterations and 0.08 seconds\n",
      "Optimal objective  1.450000000e+01\n",
      "CPU times: user 35.6 ms, sys: 19.3 ms, total: 54.9 ms\n",
      "Wall time: 91.1 ms\n",
      "x1 0\n",
      "x2 1\n",
      "x3 0.75\n",
      "Obj: 14.5\n"
     ]
    }
   ],
   "source": [
    "# Create a new model\n",
    "m = Model('P_LP')\n",
    "\n",
    "# Create variables\n",
    "x1 = m.addVar(lb=0, ub=1, vtype=GRB.CONTINUOUS, name='x1')\n",
    "x2 = m.addVar(lb=0, ub=1, vtype=GRB.CONTINUOUS, name='x2')\n",
    "x3 = m.addVar(lb=0, ub=1, vtype=GRB.CONTINUOUS, name='x3')\n",
    "\n",
    "# Set objective\n",
    "m.setObjective(10*x1 + 4*x2 + 14*x3, GRB.MAXIMIZE)\n",
    "\n",
    "# Add constraints\n",
    "m.addConstr(3*x1 + x2 + 4*x3 <= 4, 'C')\n",
    "\n",
    "m.update()\n",
    "\n",
    "%time m.optimize()\n",
    "\n",
    "for v in m.getVars():\n",
    "    print('%s %g' % (v.varName, v.x))\n",
    "\n",
    "print('Obj: %g' % m.objVal)"
   ]
  },
  {
   "cell_type": "markdown",
   "id": "stock-platinum",
   "metadata": {},
   "source": [
    "## Lagrangian dual"
   ]
  },
  {
   "cell_type": "code",
   "execution_count": 24,
   "id": "diagnostic-river",
   "metadata": {},
   "outputs": [
    {
     "data": {
      "text/plain": [
       "8"
      ]
     },
     "execution_count": 24,
     "metadata": {},
     "output_type": "execute_result"
    }
   ],
   "source": [
    "len(list(product(*[[0,1],]*3)))"
   ]
  },
  {
   "cell_type": "code",
   "execution_count": 25,
   "id": "regional-billion",
   "metadata": {},
   "outputs": [
    {
     "name": "stdout",
     "output_type": "stream",
     "text": [
      "Gurobi Optimizer version 9.1.1 build v9.1.1rc0 (linux64)\n",
      "Thread count: 2 physical cores, 4 logical processors, using up to 4 threads\n",
      "Optimize a model with 8 rows, 2 columns and 14 nonzeros\n",
      "Model fingerprint: 0xf4d514ce\n",
      "Coefficient statistics:\n",
      "  Matrix range     [1e+00, 4e+00]\n",
      "  Objective range  [1e+00, 1e+00]\n",
      "  Bounds range     [0e+00, 0e+00]\n",
      "  RHS range        [4e+00, 3e+01]\n",
      "Presolve removed 2 rows and 0 columns\n",
      "Presolve time: 0.01s\n",
      "Presolved: 6 rows, 2 columns, 12 nonzeros\n",
      "\n",
      "Iteration    Objective       Primal Inf.    Dual Inf.      Time\n",
      "       0    1.4000000e+01   1.400000e+01   0.000000e+00      0s\n",
      "       3    1.4500000e+01   0.000000e+00   0.000000e+00      0s\n",
      "\n",
      "Solved in 3 iterations and 0.02 seconds\n",
      "Optimal objective  1.450000000e+01\n",
      "CPU times: user 26.7 ms, sys: 249 µs, total: 26.9 ms\n",
      "Wall time: 30.1 ms\n",
      "u 3.5\n",
      "eta 14.5\n",
      "Obj: 14.5\n"
     ]
    }
   ],
   "source": [
    "from itertools import product\n",
    "\n",
    "# Create a new model\n",
    "m = Model('W_LD')\n",
    "\n",
    "# Create variables\n",
    "u = m.addVar(lb=0, vtype=GRB.CONTINUOUS, name='u')\n",
    "eta = m.addVar(vtype=GRB.CONTINUOUS, name='eta')\n",
    "\n",
    "# Set objective\n",
    "m.setObjective(eta, GRB.MINIMIZE)\n",
    "\n",
    "# Add constraints\n",
    "for x1, x2, x3 in product(*[[0,1],]*3):\n",
    "    m.addConstr(eta >= 10*x1 + 4*x2 + 14*x3 + u*(4 - 3*x1 - x2 - 4*x3 ))\n",
    "\n",
    "m.update()\n",
    "\n",
    "%time m.optimize()\n",
    "\n",
    "u_opt = u.x\n",
    "\n",
    "for v in m.getVars():\n",
    "    print('%s %g' % (v.varName, v.x))\n",
    "\n",
    "print('Obj: %g' % m.objVal)"
   ]
  },
  {
   "cell_type": "code",
   "execution_count": 20,
   "id": "greater-tender",
   "metadata": {},
   "outputs": [
    {
     "name": "stdout",
     "output_type": "stream",
     "text": [
      "Gurobi Optimizer version 9.1.1 build v9.1.1rc0 (linux64)\n",
      "Thread count: 2 physical cores, 4 logical processors, using up to 4 threads\n",
      "Optimize a model with 0 rows, 3 columns and 0 nonzeros\n",
      "Model fingerprint: 0x3f075da8\n",
      "Coefficient statistics:\n",
      "  Matrix range     [0e+00, 0e+00]\n",
      "  Objective range  [5e-01, 5e-01]\n",
      "  Bounds range     [1e+00, 1e+00]\n",
      "  RHS range        [0e+00, 0e+00]\n",
      "Presolve removed 0 rows and 3 columns\n",
      "Presolve time: 0.02s\n",
      "Presolve: All rows and columns removed\n",
      "Iteration    Objective       Primal Inf.    Dual Inf.      Time\n",
      "       0    1.4500000e+01   0.000000e+00   0.000000e+00      0s\n",
      "\n",
      "Solved in 0 iterations and 0.04 seconds\n",
      "Optimal objective  1.450000000e+01\n",
      "CPU times: user 34.9 ms, sys: 5.2 ms, total: 40.1 ms\n",
      "Wall time: 56.5 ms\n",
      "x1 0\n",
      "x2 1\n",
      "x3 0\n",
      "Obj: 14.5\n"
     ]
    }
   ],
   "source": [
    "# Create a new model\n",
    "m = Model('P_LR')\n",
    "\n",
    "# Create variables\n",
    "x1 = m.addVar(lb=0, ub=1, vtype=GRB.CONTINUOUS, name='x1')\n",
    "x2 = m.addVar(lb=0, ub=1, vtype=GRB.CONTINUOUS, name='x2')\n",
    "x3 = m.addVar(lb=0, ub=1, vtype=GRB.CONTINUOUS, name='x3')\n",
    "\n",
    "# Set objective\n",
    "m.setObjective(10*x1 + 4*x2 + 14*x3 + u_opt*(4 - 3*x1 - x2 - 4*x3), GRB.MAXIMIZE)\n",
    "\n",
    "m.update()\n",
    "\n",
    "%time m.optimize()\n",
    "\n",
    "for v in m.getVars():\n",
    "    print('%s %g' % (v.varName, v.x))\n",
    "\n",
    "print('Obj: %g' % m.objVal)"
   ]
  },
  {
   "cell_type": "code",
   "execution_count": 21,
   "id": "forward-funds",
   "metadata": {},
   "outputs": [
    {
     "data": {
      "text/plain": [
       "1"
      ]
     },
     "execution_count": 21,
     "metadata": {},
     "output_type": "execute_result"
    }
   ],
   "source": [
    "1"
   ]
  }
 ],
 "metadata": {
  "kernelspec": {
   "display_name": "Python [conda env:opt] *",
   "language": "python",
   "name": "conda-env-opt-py"
  },
  "language_info": {
   "codemirror_mode": {
    "name": "ipython",
    "version": 3
   },
   "file_extension": ".py",
   "mimetype": "text/x-python",
   "name": "python",
   "nbconvert_exporter": "python",
   "pygments_lexer": "ipython3",
   "version": "3.8.5"
  }
 },
 "nbformat": 4,
 "nbformat_minor": 5
}
