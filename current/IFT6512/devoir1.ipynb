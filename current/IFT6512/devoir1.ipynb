{
 "cells": [
  {
   "cell_type": "markdown",
   "metadata": {
    "vscode": {
     "languageId": "julia"
    }
   },
   "source": [
    "# Devoir 1"
   ]
  },
  {
   "cell_type": "code",
   "execution_count": 1,
   "metadata": {},
   "outputs": [
    {
     "name": "stderr",
     "output_type": "stream",
     "text": [
      "\u001b[32m\u001b[1m    Updating\u001b[22m\u001b[39m registry at `~/.julia/registries/General.toml`\n",
      "\u001b[32m\u001b[1m   Resolving\u001b[22m\u001b[39m package versions...\n",
      "\u001b[32m\u001b[1m  No Changes\u001b[22m\u001b[39m to `~/.julia/environments/v1.10/Project.toml`\n",
      "\u001b[32m\u001b[1m  No Changes\u001b[22m\u001b[39m to `~/.julia/environments/v1.10/Manifest.toml`\n",
      "\u001b[32m\u001b[1m   Resolving\u001b[22m\u001b[39m package versions...\n",
      "\u001b[32m\u001b[1m  No Changes\u001b[22m\u001b[39m to `~/.julia/environments/v1.10/Project.toml`\n",
      "\u001b[32m\u001b[1m  No Changes\u001b[22m\u001b[39m to `~/.julia/environments/v1.10/Manifest.toml`\n",
      "\u001b[32m\u001b[1m   Resolving\u001b[22m\u001b[39m package versions...\n",
      "\u001b[32m\u001b[1m  No Changes\u001b[22m\u001b[39m to `~/.julia/environments/v1.10/Project.toml`\n",
      "\u001b[32m\u001b[1m  No Changes\u001b[22m\u001b[39m to `~/.julia/environments/v1.10/Manifest.toml`\n",
      "\u001b[32m\u001b[1m   Resolving\u001b[22m\u001b[39m package versions...\n",
      "\u001b[32m\u001b[1m  No Changes\u001b[22m\u001b[39m to `~/.julia/environments/v1.10/Project.toml`\n",
      "\u001b[32m\u001b[1m  No Changes\u001b[22m\u001b[39m to `~/.julia/environments/v1.10/Manifest.toml`\n"
     ]
    }
   ],
   "source": [
    "import Pkg\n",
    "Pkg.add(\"HiGHS\")\n",
    "Pkg.add(\"StochasticPrograms\")\n",
    "Pkg.add(\"Distributions\")\n",
    "Pkg.add(\"Plots\")\n",
    "\n",
    "using HiGHS\n",
    "using StochasticPrograms\n",
    "using Distributions\n",
    "using Random\n",
    "using Plots"
   ]
  },
  {
   "cell_type": "markdown",
   "metadata": {},
   "source": [
    "## Exercise 3"
   ]
  },
  {
   "cell_type": "markdown",
   "metadata": {},
   "source": [
    "\n",
    "Following the example seen in class, with $ c=0.15,\\, q=0.25,\\, r=0.02 $."
   ]
  },
  {
   "cell_type": "code",
   "execution_count": 2,
   "metadata": {},
   "outputs": [],
   "source": [
    "@stochastic_model newsvendor begin\n",
    "    @stage 1 begin\n",
    "        @decision(newsvendor, x >= 0)\n",
    "        @objective(newsvendor, Min, 0.15 * x)\n",
    "    end\n",
    "    @stage 2 begin\n",
    "        @uncertain ω\n",
    "        @recourse(newsvendor, y >= 0)\n",
    "        @recourse(newsvendor, w >= 0)\n",
    "        @objective(newsvendor, Min, - 0.25*y - 0.02*w)\n",
    "        @constraint(newsvendor, y <= ω)\n",
    "        @constraint(newsvendor, y + w <= x)\n",
    "    end\n",
    "end\n",
    "\n",
    "set_optimizer(newsvendor, HiGHS.Optimizer)\n",
    "set_silent(newsvendor)"
   ]
  },
  {
   "cell_type": "markdown",
   "metadata": {},
   "source": [
    "The scenarios are sampled from a normal distribution given by $\\omega \\sim N(650,80^2)$."
   ]
  },
  {
   "cell_type": "code",
   "execution_count": 3,
   "metadata": {},
   "outputs": [
    {
     "data": {
      "text/plain": [
       "Scenario sampler"
      ]
     },
     "metadata": {},
     "output_type": "display_data"
    }
   ],
   "source": [
    "@sampler Sampler = begin\n",
    "    N::MvNormal\n",
    "\n",
    "    Sampler(μ, σ) = new(MvNormal(μ, σ))\n",
    "\n",
    "    @sample Scenario begin\n",
    "        x = rand(sampler.N)\n",
    "        return Scenario(ω = x[1])\n",
    "    end\n",
    "end\n",
    "\n",
    "D = Sampler([650], [80])"
   ]
  },
  {
   "cell_type": "markdown",
   "metadata": {},
   "source": [
    "The samples are drawn with the same seed and solved using HiGHS."
   ]
  },
  {
   "cell_type": "code",
   "execution_count": 4,
   "metadata": {},
   "outputs": [],
   "source": [
    "objs = Vector{Float64}()\n",
    "xs = Vector{Float64}()\n",
    "\n",
    "N = [5, 10, 100, 1000, 10000]\n",
    "for n in N\n",
    "    Random.seed!(33)\n",
    "    instances = instantiate(newsvendor, D, n, optimizer=HiGHS.Optimizer)\n",
    "\n",
    "    set_silent(instances)\n",
    "    optimize!(instances)\n",
    "\n",
    "    push!(objs, objective_value(instances))\n",
    "    push!(xs, value(all_decision_variables(instances)[1][1]))\n",
    "end"
   ]
  },
  {
   "cell_type": "code",
   "execution_count": 20,
   "metadata": {},
   "outputs": [
    {
     "ename": "ErrorException",
     "evalue": "Cannot convert MvNormal{Int64, PDMats.PDiagMat{Int64, Vector{Int64}}, Vector{Int64}} to series data for plotting",
     "output_type": "error",
     "traceback": [
      "Cannot convert MvNormal{Int64, PDMats.PDiagMat{Int64, Vector{Int64}}, Vector{Int64}} to series data for plotting\n",
      "\n",
      "Stacktrace:\n",
      "  [1] error(s::String)\n",
      "    @ Base ./error.jl:35\n",
      "  [2] _prepare_series_data(x::MvNormal{Int64, PDMats.PDiagMat{Int64, Vector{Int64}}, Vector{Int64}})\n",
      "    @ RecipesPipeline ~/.julia/packages/RecipesPipeline/BGM3l/src/series.jl:8\n",
      "  [3] _series_data_vector(x::MvNormal{Int64, PDMats.PDiagMat{Int64, Vector{Int64}}, Vector{Int64}}, plotattributes::Dict{Symbol, Any})\n",
      "    @ RecipesPipeline ~/.julia/packages/RecipesPipeline/BGM3l/src/series.jl:36\n",
      "  [4] macro expansion\n",
      "    @ ~/.julia/packages/RecipesPipeline/BGM3l/src/series.jl:128 [inlined]\n",
      "  [5] apply_recipe(plotattributes::AbstractDict{Symbol, Any}, ::Type{RecipesPipeline.SliceIt}, x::Any, y::Any, z::Any)\n",
      "    @ RecipesPipeline ~/.julia/packages/RecipesBase/BRe07/src/RecipesBase.jl:300\n",
      "  [6] _process_userrecipes!(plt::Any, plotattributes::Any, args::Any)\n",
      "    @ RecipesPipeline ~/.julia/packages/RecipesPipeline/BGM3l/src/user_recipe.jl:38\n",
      "  [7] recipe_pipeline!(plt::Any, plotattributes::Any, args::Any)\n",
      "    @ RecipesPipeline ~/.julia/packages/RecipesPipeline/BGM3l/src/RecipesPipeline.jl:72\n",
      "  [8] _plot!(plt::Plots.Plot, plotattributes::Any, args::Any)\n",
      "    @ Plots ~/.julia/packages/Plots/kLeqV/src/plot.jl:223\n",
      "  [9] plot(::Any, ::Vararg{Any}; kw...)\n",
      "    @ Plots ~/.julia/packages/Plots/kLeqV/src/plot.jl:102\n",
      " [10] top-level scope\n",
      "    @ /workspaces/lecture-notes/current/IFT6512/jl_notebook_cell_df34fa98e69747e1a8f8a730347b8e2f_X12sdnNjb2RlLXJlbW90ZQ==.jl:1"
     ]
    }
   ],
   "source": [
    "plot(N, objs, xscale=:log10, markershape=:circle, title=\"Objective\", xlabel=\"Number of samples\", legend=false)\n",
    "xlims!(1, 100000)"
   ]
  },
  {
   "cell_type": "code",
   "execution_count": null,
   "metadata": {},
   "outputs": [],
   "source": [
    "plot(N, xs, xscale=:log10, markershape=:circle, title=raw\"$x^{\\star}$\", xlabel=\"Number of samples\", legend=false)\n",
    "xlims!(1, 100000)"
   ]
  },
  {
   "cell_type": "markdown",
   "metadata": {},
   "source": [
    "Both the objective values and the optimal solutions converge to the analytical solution as the number os instances increase. This is expected as the larger the sample, the more representative it is of the original distribution."
   ]
  },
  {
   "cell_type": "markdown",
   "metadata": {},
   "source": [
    "## Exercise 4"
   ]
  },
  {
   "cell_type": "code",
   "execution_count": 2,
   "metadata": {},
   "outputs": [],
   "source": [
    "# parameters\n",
    "c = [1.5, 1.8]\n",
    "q = [3., 4.]\n",
    "r = [1., 1.2]\n",
    ";"
   ]
  },
  {
   "cell_type": "code",
   "execution_count": 3,
   "metadata": {},
   "outputs": [],
   "source": [
    "Random.seed!(33)\n",
    "\n",
    "N = MvNormal([50, 30], [5,2])\n",
    "\n",
    "n_scenarios = 100\n",
    "Δ = [rand(N) for _ in 1:n_scenarios];"
   ]
  },
  {
   "cell_type": "markdown",
   "metadata": {},
   "source": [
    "### (c)"
   ]
  },
  {
   "cell_type": "code",
   "execution_count": null,
   "metadata": {},
   "outputs": [],
   "source": [
    "# model definition\n",
    "model = Model(HiGHS.Optimizer)\n",
    "\n",
    "# first stage variables\n",
    "@variable(model, x[1:2] >= 0)  # x[1] = $x_b$ and x[2] = $x_e$\n",
    "\n",
    "# second stage variables (for each scenario)\n",
    "@variable(model, y[1:n_scenarios,1:2] >= 0)\n",
    "@variable(model, w[1:n_scenarios,1:2] >= 0)\n",
    "\n",
    "# second stage constraints\n",
    "@constraint(model, [i=1:n_scenarios,j=1:2], y[i,j] <= Δ[i][j])\n",
    "@constraint(model, [i=1:n_scenarios,j=1:2], y[i,j] + w[i,j] <= x[j])\n",
    "\n",
    "#objective\n",
    "obj = c'*x\n",
    "for i=1:n_scenarios\n",
    "    obj += (- q'*y[i,:] - r'*w[i,:]) / n_scenarios\n",
    "end\n",
    "@objective(model, Min, obj)\n",
    "\n",
    "model"
   ]
  },
  {
   "cell_type": "code",
   "execution_count": null,
   "metadata": {},
   "outputs": [],
   "source": [
    "optimize!(model)"
   ]
  },
  {
   "cell_type": "code",
   "execution_count": null,
   "metadata": {},
   "outputs": [],
   "source": [
    "-objective_value(model)"
   ]
  },
  {
   "cell_type": "code",
   "execution_count": null,
   "metadata": {},
   "outputs": [],
   "source": [
    "value.(x)"
   ]
  },
  {
   "cell_type": "markdown",
   "metadata": {},
   "source": [
    "### (d)\n",
    "\n",
    "The optimal value found indicates that the optimal strategy for the baker is to always produce a little bit more than the expected demand. In fact, it produces almost the mean value plus a standard deviation.\n",
    "\n",
    "The result becomes interesting when compared to the solution of the expected value, which would be precisely the average demand."
   ]
  },
  {
   "cell_type": "markdown",
   "metadata": {},
   "source": [
    "### (e)"
   ]
  },
  {
   "cell_type": "code",
   "execution_count": null,
   "metadata": {},
   "outputs": [],
   "source": [
    "# model definition\n",
    "model = Model(HiGHS.Optimizer)\n",
    "\n",
    "# first stage variables\n",
    "@variable(model, x[1:2] >= 0, Int)  # x[1] = $x_b$ and x[2] = $x_e$\n",
    "\n",
    "# second stage variables (for each scenario)\n",
    "@variable(model, y[1:n_scenarios,1:2] >= 0)\n",
    "@variable(model, w[1:n_scenarios,1:2] >= 0)\n",
    "\n",
    "# second stage constraints\n",
    "@constraint(model, [i=1:n_scenarios,j=1:2], y[i,j] <= Δ[i][j])\n",
    "@constraint(model, [i=1:n_scenarios,j=1:2], y[i,j] + w[i,j] <= x[j])\n",
    "\n",
    "#objective\n",
    "obj = c'*x\n",
    "for i=1:n_scenarios\n",
    "    obj += (- q'*y[i,:] - r'*w[i,:]) / n_scenarios\n",
    "end\n",
    "@objective(model, Min, obj)\n",
    "\n",
    "model"
   ]
  },
  {
   "cell_type": "code",
   "execution_count": null,
   "metadata": {},
   "outputs": [],
   "source": [
    "optimize!(model)"
   ]
  },
  {
   "cell_type": "code",
   "execution_count": null,
   "metadata": {},
   "outputs": [],
   "source": [
    "-objective_value(model)"
   ]
  },
  {
   "cell_type": "code",
   "execution_count": null,
   "metadata": {},
   "outputs": [],
   "source": [
    "value.(x)"
   ]
  },
  {
   "cell_type": "markdown",
   "metadata": {},
   "source": [
    "### (f)\n",
    "\n",
    "As the L-Shaped method requires a bounded first stage, we assume an upper bound symmetric to the lower bound (0, to ensure non-negativity) with respect to the mean of the demand, that is, $0 \\le x_i \\le \\mu_i$."
   ]
  },
  {
   "cell_type": "code",
   "execution_count": null,
   "metadata": {},
   "outputs": [],
   "source": [
    "@stochastic_model boulanger begin\n",
    "    @stage 1 begin\n",
    "        @decision(boulanger, 0 <= x[i=1:2] <= [50, 30][i])\n",
    "        @objective(boulanger, Min, c'*x)\n",
    "    end\n",
    "    @stage 2 begin\n",
    "        @uncertain d[1:2]\n",
    "        @recourse(boulanger, y[1:2] >= 0)\n",
    "        @recourse(boulanger, w[1:2] >= 0)\n",
    "        @objective(boulanger, Min, - q'*y - r'*w)\n",
    "        @constraint(boulanger, [j=1:2], y[j] <= d[j])\n",
    "        @constraint(boulanger, [j=1:2], y[j] + w[j] <= x[j])\n",
    "    end\n",
    "end"
   ]
  },
  {
   "cell_type": "code",
   "execution_count": null,
   "metadata": {},
   "outputs": [],
   "source": [
    "scenarios = [\n",
    "    @scenario(d[1:2]=Δ[i], probability=1/n_scenarios)\n",
    "    for i in 1:n_scenarios\n",
    "]\n",
    "\n",
    "instance = instantiate(boulanger, scenarios, optimizer=LShaped.Optimizer)\n",
    "\n",
    "set_optimizer_attribute(instance, MasterOptimizer(), HiGHS.Optimizer)\n",
    "set_optimizer_attribute(instance, SubProblemOptimizer(), HiGHS.Optimizer)\n",
    "\n",
    "optimize!(instance)"
   ]
  },
  {
   "cell_type": "code",
   "execution_count": null,
   "metadata": {},
   "outputs": [],
   "source": [
    "objective_value(instance)"
   ]
  }
 ],
 "metadata": {
  "kernelspec": {
   "display_name": "Julia 1.10.5",
   "language": "julia",
   "name": "julia-1.10"
  },
  "language_info": {
   "file_extension": ".jl",
   "mimetype": "application/julia",
   "name": "julia",
   "version": "1.10.5"
  }
 },
 "nbformat": 4,
 "nbformat_minor": 2
}
