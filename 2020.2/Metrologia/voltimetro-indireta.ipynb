{
 "cells": [
  {
   "cell_type": "markdown",
   "metadata": {},
   "source": [
    "# EMC5235 - Calibração indireta do voltímetro\n",
    "\n",
    "Bruno M. Pacheco\n",
    "\n",
    "16100865"
   ]
  },
  {
   "cell_type": "code",
   "execution_count": 2,
   "metadata": {},
   "outputs": [],
   "source": [
    "import matplotlib.pyplot as plt\n",
    "import numpy as np\n",
    "import scipy as sp\n",
    "\n",
    "import seaborn as sns\n",
    "from scipy.stats import norm"
   ]
  },
  {
   "cell_type": "markdown",
   "metadata": {},
   "source": [
    "## 3.1 Erro aleatório"
   ]
  },
  {
   "cell_type": "code",
   "execution_count": 6,
   "metadata": {},
   "outputs": [
    {
     "name": "stderr",
     "output_type": "stream",
     "text": [
      "/home/bruno/miniconda3/lib/python3.7/site-packages/seaborn/distributions.py:2551: FutureWarning: `distplot` is a deprecated function and will be removed in a future version. Please adapt your code to use either `displot` (a figure-level function with similar flexibility) or `histplot` (an axes-level function for histograms).\n",
      "  warnings.warn(msg, FutureWarning)\n"
     ]
    },
    {
     "data": {
      "image/png": "[encoded data removed]",
      "text/plain": [
       "<Figure size 432x288 with 1 Axes>"
      ]
     },
     "metadata": {
      "needs_background": "light"
     },
     "output_type": "display_data"
    }
   ],
   "source": [
    "measurements = np.array([5.00, 5.07, 5.06, 4.98, 5.06, 5.02, 5.08, 5.01, 5.03, 5.04, 5.04, 5.11, 5.03, 5.02, 5.10, 5.03, 5.01, 5.01, 5.05, 5.07, 4.97, 5.03, 5.00, 5.08, 5.06, 5.01, 4.94, 4.98, 5.07, 4.99, 5.10, 5.01, 5.04, 5.02, 5.05, 5.03, 5.03, 5.08, 5.04, 5.02, 5.00, 4.97, 4.99, 5.06, 5.04, 4.98, 4.99, 4.96, 5.06, 5.10, 5.05, 5.01, 5.06, 5.07, 5.01, 5.02, 5.06, 4.99, 4.94, 5.01, 5.04, 5.07, 5.07, 5.03, 4.96, 5.09, 5.11, 5.04, 5.04, 5.08, 5.00, 5.01, 5.04, 5.07, 5.04, 5.03, 5.01, 5.13, 5.02, 5.08, 5.07, 5.03, 5.04, 4.99, 5.07, 5.05, 5.08, 5.06, 5.02, 5.07, 5.08, 5.05, 5.08, 5.03, 5.00, 4.95, 5.05, 5.02, 5.03, 5.06,])\n",
    "\n",
    "sns.distplot(measurements, hist=True, norm_hist=False, fit=norm, kde=False)\n",
    "plt.show()"
   ]
  },
  {
   "cell_type": "markdown",
   "metadata": {},
   "source": [
    "Veja que o eixo vertical está em densidade ao invés de contagem dos valores para que seja comparável com o traço da distribuição normal."
   ]
  },
  {
   "cell_type": "code",
   "execution_count": 4,
   "metadata": {},
   "outputs": [
    {
     "name": "stdout",
     "output_type": "stream",
     "text": [
      "Desvio padrão: 0.04 V\n",
      "\n"
     ]
    }
   ],
   "source": [
    "s = np.std(measurements)\n",
    "print(f'Desvio padrão: {s:.2f} V')\n",
    "print(f'')"
   ]
  },
  {
   "cell_type": "code",
   "execution_count": 5,
   "metadata": {},
   "outputs": [
    {
     "name": "stdout",
     "output_type": "stream",
     "text": [
      "Repetitividade: 0.08 V\n"
     ]
    }
   ],
   "source": [
    "# student's t coefficient for 99 (~100) degrees of freedom, 95%\n",
    "student = 2.025\n",
    "\n",
    "re = s * student\n",
    "\n",
    "print(f\"Repetitividade: {re:.2f} V\")"
   ]
  },
  {
   "cell_type": "markdown",
   "metadata": {},
   "source": [
    "## 3.2 Tendência e correção\n",
    "\n",
    "### a)"
   ]
  },
  {
   "cell_type": "code",
   "execution_count": 7,
   "metadata": {},
   "outputs": [
    {
     "name": "stdout",
     "output_type": "stream",
     "text": [
      "Tendência: 0.04 V\n",
      "Correção: -0.04 V\n"
     ]
    }
   ],
   "source": [
    "td = np.mean(measurements) - 5.000\n",
    "\n",
    "print(f\"Tendência: {td:.2f} V\")\n",
    "\n",
    "print(f\"Correção: {-td:.2f} V\")"
   ]
  },
  {
   "cell_type": "markdown",
   "metadata": {},
   "source": [
    "### b)"
   ]
  },
  {
   "cell_type": "code",
   "execution_count": 8,
   "metadata": {},
   "outputs": [
    {
     "name": "stdout",
     "output_type": "stream",
     "text": [
      "Tensão de -5 V\n",
      "Tendência: -0.04 V\n",
      "Correção: 0.04 V\n"
     ]
    }
   ],
   "source": [
    "measurements = [-5.16, -5.08, -5.03, -5.00, -5.03, -5.07, -5.09, -5.03, -5.02, -5.05, -5.02, -5.04, -5.07, -5.06, -5.06, -5.02, -5.03, -5.05, -5.10, -5.03, -5.10, -5.03, -5.05, -5.06, -5.02, -5.10, -5.05, -5.08, -5.04, -5.03, -5.02, -4.98, -5.00, -5.03, -5.03, -5.08, -5.06, -5.02, -4.98, -5.08, -5.04, -4.99, -5.11, -5.05, -4.98, -5.03, -4.98, -5.09, -5.09, -5.05, -4.98, -5.04, -5.03, -5.06, -4.99, -4.99, -5.06, -5.00, -5.01, -5.04, -5.05, -5.04, -5.05, -5.00, -5.03, -5.05, -4.99, -5.07, -5.07, -4.98, -5.03, -5.02, -5.02, -5.02, -5.01, -5.03, -5.03, -4.98, -5.05, -4.99, -5.07, -5.04, -5.07, -5.05, -5.09, -5.02, -5.14, -5.01, -5.01, -5.03, -5.04, -5.00, -5.08, -5.10, -5.05, -5.01, -5.07, -5.06, -5.01, -5.04, ]\n",
    "\n",
    "td = np.mean(measurements) - (-5.000)\n",
    "\n",
    "print('Tensão de -5 V')\n",
    "print(f\"Tendência: {td:.2f} V\")\n",
    "print(f\"Correção: {-td:.2f} V\")"
   ]
  },
  {
   "cell_type": "markdown",
   "metadata": {},
   "source": [
    "Aparentemente o voltímetro apresenta tendência simétrica, ou seja, oposta em direções opostas.\n",
    "\n",
    "### c)"
   ]
  },
  {
   "cell_type": "code",
   "execution_count": 11,
   "metadata": {},
   "outputs": [
    {
     "name": "stdout",
     "output_type": "stream",
     "text": [
      "100 medições:\n",
      "Tendência (incerteza): 0.04 (0.04) V\n",
      "\n",
      "16 medições:\n",
      "Tendência (incerteza): 0.04 (0.04) V\n",
      "\n",
      "4 medições:\n",
      "Tendência (incerteza): 0.04 (0.01) V\n",
      "\n"
     ]
    }
   ],
   "source": [
    "meas = {\n",
    "    100: [5.00, 5.07, 5.06, 4.98, 5.06, 5.02, 5.08, 5.01, 5.03, 5.04, 5.04, 5.11, 5.03, 5.02, 5.10, 5.03, 5.01, 5.01, 5.05, 5.07, 4.97, 5.03, 5.00, 5.08, 5.06, 5.01, 4.94, 4.98, 5.07, 4.99, 5.10, 5.01, 5.04, 5.02, 5.05, 5.03, 5.03, 5.08, 5.04, 5.02, 5.00, 4.97, 4.99, 5.06, 5.04, 4.98, 4.99, 4.96, 5.06, 5.10, 5.05, 5.01, 5.06, 5.07, 5.01, 5.02, 5.06, 4.99, 4.94, 5.01, 5.04, 5.07, 5.07, 5.03, 4.96, 5.09, 5.11, 5.04, 5.04, 5.08, 5.00, 5.01, 5.04, 5.07, 5.04, 5.03, 5.01, 5.13, 5.02, 5.08, 5.07, 5.03, 5.04, 4.99, 5.07, 5.05, 5.08, 5.06, 5.02, 5.07, 5.08, 5.05, 5.08, 5.03, 5.00, 4.95, 5.05, 5.02, 5.03, 5.06,],\n",
    "    16: [4.98, 5.05, 5.10, 5.03, 5.02, 4.97, 5.02, 5.08, 5.13, 5.06, 5.00, 5.01, 5.05, 5.02, 5.02, 5.04, ],\n",
    "    4: [5.06, 5.04, 5.05, 5.02, ],\n",
    "}\n",
    "\n",
    "for w in meas.keys():\n",
    "    print(f\"{w} medições:\")\n",
    "    print(f\"Tendência (incerteza): {np.mean(meas[w]) - 5.000:.2f} ({np.std(meas[w]):.2f}) V\")\n",
    "    print('')"
   ]
  },
  {
   "cell_type": "code",
   "execution_count": 12,
   "metadata": {},
   "outputs": [
    {
     "data": {
      "image/png": "[encoded data removed]",
      "text/plain": [
       "<Figure size 432x288 with 1 Axes>"
      ]
     },
     "metadata": {
      "needs_background": "light"
     },
     "output_type": "display_data"
    }
   ],
   "source": [
    "sns.boxplot(data=list(meas.values())[::-1])\n",
    "plt.xticks(ticks=[0,1,2], labels=[100, 16, 4][::-1])\n",
    "\n",
    "plt.show()"
   ]
  },
  {
   "cell_type": "markdown",
   "metadata": {},
   "source": [
    "Vê-se que, pela definição dada no enunciado, os valores são consistentes.\n",
    "\n",
    "## 3.3 Calibração do voltímetro\n",
    "\n",
    "Deseja-se calibrar o voltímetro digital para operação dentro da faixa de -15 V a 15 V, visando, à partir da indicação do display, obter uma estimativa mais precisa do valor medido. Se utilizará a fonte de alimentação analógica a partir da referência do voltímetro digital, que possui incerteza expandida já conhecida de 0,0010 V e, portanto, muito inferior inclusive à resolução do SMC.\n",
    "\n",
    "A calibração será feita em 11 pontos igualmente espaçados em 3 V. 20 medições serão feitas em cada ponto, levantando a tendência e a incerteza para constituir a curva de calibração."
   ]
  },
  {
   "cell_type": "code",
   "execution_count": 14,
   "metadata": {},
   "outputs": [
    {
     "data": {
      "image/png": "[encoded data removed]",
      "text/plain": [
       "<Figure size 432x288 with 1 Axes>"
      ]
     },
     "metadata": {
      "needs_background": "light"
     },
     "output_type": "display_data"
    }
   ],
   "source": [
    "measurements = {\n",
    "    -15: [-15.10, -15.08, -15.06, -15.10, -15.05, -15.10, -15.10, -15.05, -15.14, -15.07, -15.07, -15.07, -15.06, -15.09, -15.06, -15.04, -15.06, -15.11, -15.08, -15.11, ],\n",
    "    -12: [-12.03, -12.09, -12.06, -12.06, -12.02, -12.08, -12.12, -12.10, -12.05, -12.09, -12.02, -12.10, -12.08, -12.09, -12.09, -12.07, -12.06, -12.09, -12.06, -12.05, ],\n",
    "    -9: [-9.05, -9.06, -9.08, -9.08, -9.09, -9.02, -9.04, -9.11, -9.06, -9.11, -9.05, -9.07, -8.98, -9.13, -9.07, -9.02, -9.02, -9.07, -9.09, -9.06, ],\n",
    "    -6: [-6.08, -6.02, -6.07, -6.10, -6.09, -6.05, -6.08, -5.97, -5.98, -6.04, -6.06, -6.05, -6.06, -6.03, -6.05, -6.07, -6.09, -6.01, -6.04, -6.07, ],\n",
    "    -3: [-2.99, -3.05, -3.11, -3.02, -3.00, -2.99, -3.03, -3.02, -3.03, -3.10, -3.04, -3.01, -3.03, -3.04, -3.02, -3.06, -3.03, -3.05, -3.05, -3.07, ],\n",
    "    0: [-0.05, 0.00, 0.00, -0.06, 0.04, 0.02, -0.03, 0.01, 0.07, -0.02, 0.00, 0.03, -0.02, 0.01, 0.04, -0.03, -0.04, -0.05, 0.03, 0.04, ],\n",
    "    3: [3.00, 2.95, 2.98, 2.96, 3.06, 3.05, 3.04, 2.94, 3.06, 3.04, 3.00, 3.00, 2.99, 3.05, 3.10, 2.98, 2.98, 2.99, 3.10, 3.00, ],\n",
    "    6: [6.04, 6.10, 5.98, 6.05, 6.09, 6.02, 6.00, 6.07, 6.10, 6.04, 6.04, 6.13, 6.00, 6.03, 6.01, 6.04, 6.01, 5.99, 6.03, 6.13, ],\n",
    "    9: [9.05, 9.02, 9.07, 9.01, 9.16, 9.11, 9.04, 9.02, 9.03, 9.05, 9.02, 9.02, 9.09, 9.06, 9.10, 9.08, 9.07, 9.11, 9.07, 9.12, ],\n",
    "    12: [12.06, 12.06, 12.07, 12.06, 12.16, 12.05, 12.04, 12.07, 12.15, 12.08, 12.14, 12.08, 12.06, 12.12, 12.11, 12.09, 12.01, 12.08, 12.23, 12.09, ],\n",
    "    15: [15.09, 15.17, 15.09, 15.07, 15.14, 15.01, 15.07, 15.09, 15.01, 15.06, 15.13, 15.07, 15.04, 15.17, 15.00, 15.06, 15.16, 15.09, 14.95, 15.10, ],\n",
    "}\n",
    "\n",
    "assert all([len(ms)==20 for ms in measurements.values()])\n",
    "\n",
    "student = 2.140\n",
    "\n",
    "td_meas = list()\n",
    "re_meas = list()\n",
    "w_range = range(-15,15+1,3)\n",
    "for w in w_range:\n",
    "    ms = measurements[w]  # measurements\n",
    "\n",
    "    re_meas.append(np.std(ms) * student)\n",
    "    td_meas.append(np.mean(ms) - w)\n",
    "\n",
    "err_max = np.max([re + td for re, td in zip(re_meas, td_meas)])\n",
    "\n",
    "plt.errorbar(w_range, td_meas, yerr=re_meas, marker='.')\n",
    "plt.suptitle(f'Curva de Erros\\nErro máximo: {err_max:.2f} V')\n",
    "\n",
    "plt.xlabel('Peso')\n",
    "plt.ylabel('Tendência')\n",
    "\n",
    "plt.grid()\n",
    "\n",
    "plt.show()"
   ]
  },
  {
   "cell_type": "markdown",
   "metadata": {},
   "source": [
    "## 3.4 Determinação de uma tensão conhecida\n",
    "\n",
    "### a)\n",
    "\n",
    "O valor selecionado foi de 1,25 V."
   ]
  },
  {
   "cell_type": "code",
   "execution_count": 15,
   "metadata": {},
   "outputs": [],
   "source": [
    "def measure(ind):\n",
    "    meas_i = int((ind + 15) / 3)\n",
    "\n",
    "    td = ((ind + 15) / 3 - meas_i) * (td_meas[meas_i + 1] - td_meas[meas_i]) + td_meas[meas_i]\n",
    "    c = - td\n",
    "\n",
    "    re = ((ind + 15) / 3 - meas_i) * (re_meas[meas_i + 1] - re_meas[meas_i]) + re_meas[meas_i]\n",
    "    \n",
    "    return c, re"
   ]
  },
  {
   "cell_type": "code",
   "execution_count": 16,
   "metadata": {},
   "outputs": [
    {
     "name": "stdout",
     "output_type": "stream",
     "text": [
      "Tensão conhecida (medição única): 1.30 ±0.08 V\n"
     ]
    }
   ],
   "source": [
    "new_m = 1.31\n",
    "\n",
    "c, re = measure(new_m)\n",
    "\n",
    "print(f\"Tensão conhecida (medição única): {new_m + c:.2f} \\u00B1{re:.2f} V\")"
   ]
  },
  {
   "cell_type": "markdown",
   "metadata": {},
   "source": [
    "Vemos que o valor de referência está dentro da faixa que representa a medição.\n",
    "\n",
    "### b)"
   ]
  },
  {
   "cell_type": "code",
   "execution_count": 18,
   "metadata": {},
   "outputs": [
    {
     "name": "stdout",
     "output_type": "stream",
     "text": [
      "Tensão conhecida (20 medições): 1.25 ±0.08 V\n"
     ]
    }
   ],
   "source": [
    "new_ms = [1.29, 1.22, 1.25, 1.14, 1.27, 1.31, 1.28, 1.22, 1.29, 1.22, 1.26, 1.29, 1.23, 1.31, 1.27, 1.31, 1.24, 1.24, 1.22, 1.29, ]\n",
    "\n",
    "print(f\"Tensão conhecida (20 medições): {np.mean(new_ms) + c:.2f} \\u00B1{re:.2f} V\")"
   ]
  },
  {
   "cell_type": "markdown",
   "metadata": {},
   "source": [
    "Valor de referência dentro da faixa resultante.\n",
    "\n",
    "### c)"
   ]
  },
  {
   "cell_type": "code",
   "execution_count": 19,
   "metadata": {},
   "outputs": [
    {
     "name": "stdout",
     "output_type": "stream",
     "text": [
      "Tensão conhecida (erro máximo): 1.26 ±0.20 V\n"
     ]
    }
   ],
   "source": [
    "new_ms = [1.31, 1.28, 1.23, 1.34, 1.22, 1.21, 1.29, 1.22, 1.27, 1.31, 1.31, 1.26, 1.26, 1.24, 1.28, 1.21, 1.26, 1.26, 1.26, 1.25, 1.37, 1.29, 1.22, 1.28, 1.27, 1.24, 1.21, 1.23, 1.27, 1.28, ]\n",
    "\n",
    "print(f\"Tensão conhecida (erro máximo): {np.mean(new_ms):.2f} \\u00B1{err_max:.2f} V\")"
   ]
  },
  {
   "cell_type": "markdown",
   "metadata": {},
   "source": [
    "Novamente, dentro da faixa.\n",
    "\n",
    "### d)"
   ]
  },
  {
   "cell_type": "code",
   "execution_count": 20,
   "metadata": {},
   "outputs": [
    {
     "data": {
      "image/png": "[encoded data removed]",
      "text/plain": [
       "<Figure size 432x288 with 1 Axes>"
      ]
     },
     "metadata": {
      "needs_background": "light"
     },
     "output_type": "display_data"
    }
   ],
   "source": [
    "plt.hlines(y=[1.25], xmin=-1, xmax=4, linestyle='--', alpha=0.5)\n",
    "new_ms_m = [1.30, 1.25, 1.26]\n",
    "new_ms_errs = [0.08, 0.08, 0.20]\n",
    "plt.errorbar(x=['medição única', '20 medições', 'erro máximo'], y=new_ms_m, yerr=new_ms_errs, fmt='none')\n",
    "plt.scatter(x=['medição única', '20 medições', 'erro máximo'], y=new_ms_m, marker='_')\n",
    "# plt.plot(x=['medição única', '20 medições', 'erro máximo'], y=[1250, 1250, 1250])\n",
    "\n",
    "plt.show()"
   ]
  },
  {
   "cell_type": "markdown",
   "metadata": {},
   "source": [
    "São consistentes, mas é visível a desvantagem de utilizar o erro máximo.\n",
    "\n",
    "## 3.5 Determinação da soma de tensões\n",
    "\n",
    "30 medições serão realizadas para cada cenário.\n",
    "\n",
    "### a)"
   ]
  },
  {
   "cell_type": "code",
   "execution_count": 21,
   "metadata": {},
   "outputs": [
    {
     "name": "stdout",
     "output_type": "stream",
     "text": [
      "Medição: 6.34 ±0.09 V\n"
     ]
    }
   ],
   "source": [
    "meas_1 = [6.39, 6.45, 6.39, 6.50, 6.31, 6.40, 6.40, 6.46, 6.41, 6.41, 6.44, 6.34, 6.37, 6.44, 6.41, 6.36, 6.39, 6.35, 6.43, 6.34, 6.37, 6.37, 6.40, 6.38, 6.41, 6.38, 6.25, 6.39, 6.34, 6.41, ]\n",
    "\n",
    "avg = np.mean(meas_1)\n",
    "\n",
    "c, re = measure(avg)\n",
    "\n",
    "m1 = avg + c\n",
    "u1 = re\n",
    "\n",
    "print(f\"Medição: {m1:.2f} \\u00B1{u1:.2f} V\")"
   ]
  },
  {
   "cell_type": "markdown",
   "metadata": {},
   "source": [
    "### b)"
   ]
  },
  {
   "cell_type": "code",
   "execution_count": 22,
   "metadata": {},
   "outputs": [
    {
     "name": "stdout",
     "output_type": "stream",
     "text": [
      "Medição: 3.65 ±0.10 V\n"
     ]
    }
   ],
   "source": [
    "meas_2 = [3.63, 3.70, 3.65, 3.69, 3.75, 3.66, 3.68, 3.62, 3.66, 3.65, 3.64, 3.67, 3.70, 3.68, 3.64, 3.71, 3.64, 3.68, 3.66, 3.63, 3.64, 3.65, 3.69, 3.72, 3.64, 3.70, 3.72, 3.76, 3.73, 3.63, ]\n",
    "\n",
    "avg = np.mean(meas_2)\n",
    "\n",
    "c, re = measure(avg)\n",
    "\n",
    "m2 = avg + c\n",
    "u2 = re\n",
    "\n",
    "print(f\"Medição: {m2:.2f} \\u00B1{u2:.2f} V\")"
   ]
  },
  {
   "cell_type": "markdown",
   "metadata": {},
   "source": [
    "### c)"
   ]
  },
  {
   "cell_type": "code",
   "execution_count": 23,
   "metadata": {},
   "outputs": [
    {
     "name": "stdout",
     "output_type": "stream",
     "text": [
      "Soma: 10.00 ±0.13 V\n"
     ]
    }
   ],
   "source": [
    "m = m1 + m2\n",
    "u = np.sqrt(u1**2 + u2**2)\n",
    "\n",
    "print(f\"Soma: {m:.2f} \\u00B1{u:.2f} V\")"
   ]
  },
  {
   "cell_type": "markdown",
   "metadata": {},
   "source": [
    "### d)"
   ]
  },
  {
   "cell_type": "code",
   "execution_count": 24,
   "metadata": {},
   "outputs": [
    {
     "name": "stdout",
     "output_type": "stream",
     "text": [
      "Medição: 10.00 ±0.09 V\n"
     ]
    }
   ],
   "source": [
    "sum_meas = [10.12, 10.06, 10.09, 10.08, 10.06, 10.04, 10.12, 10.06, 10.12, 10.02, 10.09, 10.08, 10.04, 10.06, 10.09, 10.09, 10.11, 10.06, 10.08, 10.00, 10.08, 10.10, 10.09, 10.09, 10.06, 10.06, 10.10, 10.00, 10.06, 10.10, ]\n",
    "\n",
    "avg = np.mean(sum_meas)\n",
    "\n",
    "c, re = measure(avg)\n",
    "\n",
    "m = avg + c\n",
    "u = re\n",
    "\n",
    "print(f\"Medição: {m:.2f} \\u00B1{u:.2f} V\")"
   ]
  },
  {
   "cell_type": "markdown",
   "metadata": {},
   "source": [
    "São resultados bastante próximos, mas a incerteza associada à medição direta é significativamente inferior."
   ]
  }
 ],
 "metadata": {
  "kernelspec": {
   "display_name": "Python [conda env:root] *",
   "language": "python",
   "name": "conda-root-py"
  },
  "language_info": {
   "codemirror_mode": {
    "name": "ipython",
    "version": 3
   },
   "file_extension": ".py",
   "mimetype": "text/x-python",
   "name": "python",
   "nbconvert_exporter": "python",
   "pygments_lexer": "ipython3",
   "version": "3.7.6"
  }
 },
 "nbformat": 4,
 "nbformat_minor": 4
}
